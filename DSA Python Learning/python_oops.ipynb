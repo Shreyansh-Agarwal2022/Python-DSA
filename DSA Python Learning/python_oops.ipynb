{
 "cells": [
  {
   "cell_type": "markdown",
   "metadata": {},
   "source": [
    "# Python OOPs\n",
    "\n",
    "Reference : https://youtu.be/iLRZi0Gu8Go"
   ]
  },
  {
   "cell_type": "markdown",
   "metadata": {},
   "source": [
    "### Basic Representation of a Class"
   ]
  },
  {
   "cell_type": "code",
   "execution_count": 15,
   "metadata": {},
   "outputs": [
    {
     "name": "stdout",
     "output_type": "stream",
     "text": [
      "2\n"
     ]
    }
   ],
   "source": [
    "class Human:\n",
    "    hands = 2           # Static Variables\n",
    "    def __init__(self, val1, val2):                 # Constructor (here \"self\" denotes the object itself)\n",
    "        self.iq = val1  # Instance Variables (iq, eq)\n",
    "        self.eq = val2\n",
    "    \n",
    "    def speak(self, message):                       # Method\n",
    "        print(message + \" \" + str(self.iq))\n",
    "        return\n",
    "    \n",
    "    @staticmethod\n",
    "    def change(new_num):    # Static Methods (no need of \"self\")\n",
    "        # \"hands\" directly can be accessed\n",
    "        Human.hands = new_num\n",
    "\n",
    "print(Human.hands)      # Output : 2\n",
    "\n",
    "class Man(Human):           # Man class inherits Human class\n",
    "    def __init__(self):\n",
    "        super.__init__(1, 2)            # Calling Parent Class Constructor\n",
    "\n",
    "# Note : Python supports multiclass inheritance"
   ]
  },
  {
   "cell_type": "code",
   "execution_count": 16,
   "metadata": {},
   "outputs": [
    {
     "name": "stdout",
     "output_type": "stream",
     "text": [
      "10\n",
      "20\n",
      "{'_a': 10, '_A__b': 20}\n"
     ]
    }
   ],
   "source": [
    "class A:\n",
    "    def __init__(self):\n",
    "        self._a = 10\n",
    "        self.__b = 20               # Private Variable\n",
    "    \n",
    "    def get_b(self):\n",
    "        return self.__b\n",
    "\n",
    "    def __set_b(self, val):         # Private Method\n",
    "        self.__b = val\n",
    "        \n",
    "x = A()\n",
    "print(x._a)                 # looks private but only one \"_\"\n",
    "print(x.get_b())            # since this function acts like a getter so we are able to get value of __b\n",
    "#print(x.__b)                # Error because accessing private variable\n",
    "print(x.__dict__)           # Returns a dictionary with key-value pair of attributes"
   ]
  },
  {
   "cell_type": "markdown",
   "metadata": {},
   "source": [
    "### Overloading is not present in Python\n",
    "\n",
    "Overloading is not present in Python. Workaround for this is to have default parameters for function arguments.\n",
    "\n",
    "```python\n",
    "class A:\n",
    "    def stackoverflow(self):    \n",
    "        print ('first method')\n",
    "    def stackoverflow(self, i):\n",
    "        print ('second method', i)\n",
    "\n",
    "ob=A()\n",
    "ob.stackoverflow() # This gives error : TypeError: stackoverflow() takes exactly 2 arguments (1 given)\n",
    "```\n",
    "\n",
    "Instead do\n",
    "\n",
    "```python\n",
    "class A:\n",
    "    def stackoverflow(self, i='some_default_value'):\n",
    "        print('only method')\n",
    "\n",
    "ob=A()\n",
    "ob.stackoverflow(2)\n",
    "ob.stackoverflow()\n",
    "```\n",
    "OR use a library\n",
    "\n",
    "```python\n",
    "from pythonlangutil.overload import Overload, signature\n",
    "\n",
    "class A:\n",
    "    @Overload\n",
    "    @signature()\n",
    "    def stackoverflow(self):    \n",
    "        print('first method')\n",
    "    \n",
    "    @stackoverflow.overload\n",
    "    @signature(\"int\")\n",
    "    def stackoverflow(self, i):\n",
    "        print('second method', i)\n",
    "```\n",
    "\n"
   ]
  },
  {
   "cell_type": "markdown",
   "metadata": {},
   "source": [
    "### Creating \"Property\" Getter and Setters in Python for Private Variables"
   ]
  },
  {
   "cell_type": "code",
   "execution_count": 17,
   "metadata": {},
   "outputs": [
    {
     "name": "stdout",
     "output_type": "stream",
     "text": [
      "b\n"
     ]
    }
   ],
   "source": [
    "class User:\n",
    "    def __init__(self, a, b):\n",
    "        self.name = a\n",
    "        self._email = b\n",
    "\n",
    "    @property\n",
    "    def email(self):            # Getter\n",
    "        return self._email\n",
    "\n",
    "    @email.setter\n",
    "    def email(self, new_email): # Setter\n",
    "        self._email = new_email\n",
    "\n",
    "u = User(\"a\", \"b\")\n",
    "print(u.email) # Output : \"b\" (not going to get the error)"
   ]
  },
  {
   "cell_type": "markdown",
   "metadata": {},
   "source": [
    "### Abstract Class in Python"
   ]
  },
  {
   "cell_type": "code",
   "execution_count": 18,
   "metadata": {},
   "outputs": [
    {
     "name": "stdout",
     "output_type": "stream",
     "text": [
      "Bark\n"
     ]
    }
   ],
   "source": [
    "# Source : https://www.geeksforgeeks.org/abstract-classes-in-python/\n",
    "from abc import ABC, abstractmethod\n",
    "\n",
    "# Define an abstract class\n",
    "class Animal(ABC):\n",
    "    \n",
    "    @abstractmethod\n",
    "    def sound(self):\n",
    "        pass  # This is an abstract method, no implementation here.\n",
    "\n",
    "# Concrete subclass of Animal\n",
    "class Dog(Animal):\n",
    "    \n",
    "    def sound(self):\n",
    "        return \"Bark\"  # Providing the implementation of the abstract method\n",
    "\n",
    "# Create an instance of Dog\n",
    "#dog = Animal()      # Error : TypeError: Can't instantiate abstract class Animal without an implementation for abstract method 'sound'\n",
    "dog = Dog()\n",
    "print(dog.sound())  # Output: Bark\n"
   ]
  }
 ],
 "metadata": {
  "kernelspec": {
   "display_name": "Python 3",
   "language": "python",
   "name": "python3"
  },
  "language_info": {
   "codemirror_mode": {
    "name": "ipython",
    "version": 3
   },
   "file_extension": ".py",
   "mimetype": "text/x-python",
   "name": "python",
   "nbconvert_exporter": "python",
   "pygments_lexer": "ipython3",
   "version": "3.12.9"
  }
 },
 "nbformat": 4,
 "nbformat_minor": 2
}
